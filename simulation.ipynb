{
 "cells": [
  {
   "cell_type": "markdown",
   "id": "e45da065-5715-4d05-8167-cf17d46d8f86",
   "metadata": {},
   "source": [
    "# String simulator"
   ]
  },
  {
   "cell_type": "code",
   "execution_count": 1,
   "id": "8fe210f8-71b6-4455-b014-624198f5cf83",
   "metadata": {},
   "outputs": [],
   "source": [
    "from matplotlib import pyplot as plt\n",
    "from matplotlib import animation as ani\n",
    "import numpy as np\n",
    "import scipy as sp\n",
    "\n",
    "import time\n",
    "import pickle"
   ]
  },
  {
   "cell_type": "code",
   "execution_count": 2,
   "id": "4ac235fc-df59-49f9-a254-e5f880d13476",
   "metadata": {},
   "outputs": [
    {
     "name": "stdout",
     "output_type": "stream",
     "text": [
      "Last run: Sat Jan 27 01:33:08 2024\n"
     ]
    }
   ],
   "source": [
    "print(\"Last run: \" + time.ctime())"
   ]
  },
  {
   "cell_type": "markdown",
   "id": "84086622-06f8-4b05-b1ad-e889fe717de3",
   "metadata": {},
   "source": [
    "## Setting up the solver"
   ]
  },
  {
   "cell_type": "markdown",
   "id": "10ca9b3f-8e62-4534-b386-115bb24b28d5",
   "metadata": {},
   "source": [
    "***\n",
    "We are going to need to make some modifications to our system of equations to work with `solve_ivp`.\n",
    "\n",
    "First, `solve_ivp` only operates on first-order ODEs. We can convert our system of $n$ 2nd-order ODEs into a systen of $2n$ 1st-order ODEs with the following substitutions:\n",
    "\n",
    "$$v_i=\\frac{du_i}{dt}$$\n",
    "\n",
    "$$\\frac{dv_i}{dt}=\\frac{T}{\\rho}\\frac{u_{i+1}+u_{i-1}-2u_i}{\\Delta x^2}-\\mu_i v_i$$\n",
    "\n",
    "We'll vectorize the system of $u$ and $v$, into a vector $p$, such that $p_i=u_i$ for $1\\leq i\\leq n$, and $p_i=v_{i-500}$ for $n+1\\leq i\\leq 2n$:\n",
    "\n",
    "$$p=\\left[u_1, u_2, u_3, \\dots u_n, v_1, v_2, v_3, \\dots v_n\\right]$$\n",
    "\n",
    "Its derivative (using dot notation for $\\frac{d}{dt}$) is:\n",
    "\n",
    "$$\\dot{p}=\\left[\\dot{u}_1, \\dot{u}_2, \\dot{u}_3, \\dots \\dot{u}_n, \\dot{v}_1, \\dot{v}_2, \\dot{v}_3, \\dots \\dot{v}_n\\right]$$\n",
    "\n",
    "We will relate $p$ and $\\dot{p}$ with a matrix of coefficients, $C$:\n",
    "\n",
    "$$\\dot{p}=pC$$\n",
    "\n",
    "The coefficient $c_{ij}$ in $C$ should relate $p_i$ with $\\dot{p}_j$:\n",
    "\n",
    "$$\\dot{p}_j=\\sum_{i}p_ic_{ij}$$\n",
    "\n",
    "Substituting $u_i$ with $p_i$ and $v_i$ with $p_{i+n}$:\n",
    "\n",
    "$$p_{i+n}=\\frac{dp_i}{dt}$$\n",
    "\n",
    "$$\\frac{dp_{i+n}}{dt}=\\frac{T}{\\rho}\\frac{p_{i+1}+p_{i-1}-2p_i}{\\Delta x^2}-\\mu_i p_{i+n}$$\n",
    "\n",
    "$$c_{ij}=\\begin{cases}\n",
    "    0&\\text{for }j=n+1\\text{ or }j=2n\\\\\n",
    "    1&\\text{for }i=j+n\\\\\n",
    "    \\frac{T}{\\Delta x^2\\rho}&\\text{for }j=i+n-1\\text{ or }j=i+n+1\\\\\n",
    "    \\frac{-2T}{\\Delta x^2\\rho}&\\text{for }j=i+n\\\\\n",
    "    -\\mu_{i-n}&\\text{for }i=j\\text{ and }i>n\n",
    "\\end{cases}$$\n",
    "This gives a system of $2n$ first-order ODEs which we can solve with `solve_ivp`."
   ]
  },
  {
   "cell_type": "markdown",
   "id": "51d793b9-9839-45ad-bf79-c6ee30de3d85",
   "metadata": {},
   "source": [
    "***\n",
    "*These are approximately the conditions of the E string on my Squier bronco bass in E standard tuning. I assumed the linear density based on the density of steel and the diameter of the string, and calculated the necessary tension with Mersenne's laws."
   ]
  },
  {
   "cell_type": "code",
   "execution_count": 3,
   "id": "4f8b3862-5a6c-42c4-bb15-836eae2a1c7a",
   "metadata": {},
   "outputs": [
    {
     "name": "stdout",
     "output_type": "stream",
     "text": [
      "f0 = 41.18\n"
     ]
    }
   ],
   "source": [
    "T = 103\n",
    "r = 0.0270\n",
    "L = 0.75\n",
    "#fundamental frequency according to mersenne's laws:\n",
    "print(\"f0 = {0:.2f}\".format(0.5*np.sqrt(T/r)/L))"
   ]
  },
  {
   "cell_type": "code",
   "execution_count": 4,
   "id": "64087798-e715-4e57-b6d6-193a9d45c05e",
   "metadata": {},
   "outputs": [],
   "source": [
    "def simulate(tension, density, length, damping, initial, n_points=500):\n",
    "    \"\"\"simulate a string given length, tension, linear density\n",
    "    All quantities should be given in SI units -\n",
    "    tension should have units of N,\n",
    "    density should have units of kg/m,\n",
    "    length should have units of m,\n",
    "    time should have units of seconds\n",
    "    \"\"\"\n",
    "\n",
    "    if damping.shape[0] != n_points:\n",
    "        raise ValueError(\"Damping vector must have length n_points\")\n",
    "    elif initial.shape[0] != 2*n_points:\n",
    "        raise ValueError(\"Initial condition vector must have length 2*n_points\")\n",
    "    \n",
    "    c = np.zeros((2*n_points, 2*n_points))\n",
    "\n",
    "    dx = length/(n_points-1)\n",
    "\n",
    "    st = time.time()\n",
    "    print(\"Beginning...\")\n",
    "\n",
    "    #create c matrix according to rules above\n",
    "    for i in range(0, 2*n_points):\n",
    "        for j in range(0, 2*n_points):\n",
    "            if j==n_points or j==2*n_points-1:\n",
    "                c[i,j] = 0\n",
    "            elif i == j+n_points:\n",
    "                c[i,j]=1\n",
    "            elif j==i+n_points-1 or j==i+n_points+1:\n",
    "                c[i,j]=tension/(dx**2*density)\n",
    "            elif j == i+n_points:\n",
    "                c[i,j]=-2*tension/(dx**2*density)\n",
    "            elif i==j and i > n_points:\n",
    "                c[i,j] = -damping[i-n_points]\n",
    "\n",
    "    print(\"Created c matrix in {0:.2f} s\".format(time.time()-st))\n",
    "          \n",
    "    def func(t, y):\n",
    "        return np.matmul(y, c)\n",
    "\n",
    "    t_eval = np.linspace(0, 1, 10000)\n",
    "\n",
    "    #way faster with 2(3)\n",
    "    s = sp.integrate.solve_ivp(func, (0,1), initial, t_eval=t_eval, method=\"RK23\")\n",
    "    \n",
    "    print(\"Solver finished in {0:.2f} s\".format(time.time()-st))\n",
    "          \n",
    "    return s"
   ]
  },
  {
   "cell_type": "code",
   "execution_count": 5,
   "id": "629371ad-40e5-4e59-9b66-0992f1516e9b",
   "metadata": {},
   "outputs": [],
   "source": [
    "p0 = np.zeros(1000)\n",
    "\n",
    "p0[0:430]=[0.03*i/430 for i in range(0,430)]\n",
    "p0[430:499]=[0.03*(69-i)/69 for i in range(0,69)]"
   ]
  },
  {
   "cell_type": "code",
   "execution_count": 6,
   "id": "d86503b6-d9c5-45a8-8f7f-9ea270d671d4",
   "metadata": {},
   "outputs": [],
   "source": [
    "mu_open = np.full(500, 0.5)\n",
    "\n",
    "mu_palm = np.full(500, 0.5)\n",
    "mu_palm[-50:] = 200\n",
    "\n",
    "mu_har2 = np.full(500, 0.5)\n",
    "mu_har2[249:251] = 5000\n",
    "\n",
    "mu_har3 = np.full(500, 0.5)\n",
    "mu_har3[166:168] = 5000"
   ]
  },
  {
   "cell_type": "code",
   "execution_count": 7,
   "id": "ae81f815-8e48-45f7-92b6-c7db4dddadda",
   "metadata": {},
   "outputs": [
    {
     "name": "stdout",
     "output_type": "stream",
     "text": [
      "Beginning...\n",
      "Created c matrix in 0.32 s\n",
      "Solver finished in 37.82 s\n",
      "Beginning...\n",
      "Created c matrix in 0.38 s\n",
      "Solver finished in 40.80 s\n",
      "Beginning...\n",
      "Created c matrix in 0.49 s\n",
      "Solver finished in 40.57 s\n",
      "Beginning...\n",
      "Created c matrix in 0.54 s\n",
      "Solver finished in 43.28 s\n"
     ]
    }
   ],
   "source": [
    "s_open = simulate(T, r, L, mu_open, p0)\n",
    "s_palm = simulate(T, r, L, mu_palm, p0)\n",
    "s_har2 = simulate(T, r, L, mu_har2, p0)\n",
    "s_har3 = simulate(T, r, L, mu_har3, p0)"
   ]
  },
  {
   "cell_type": "code",
   "execution_count": 8,
   "id": "b1a09f25-1335-49af-93a6-76aa65fb5fb6",
   "metadata": {},
   "outputs": [],
   "source": [
    "with open(\"open.dat\", \"wb\") as f:\n",
    "    pickle.dump(s_open, f)\n",
    "\n",
    "with open(\"palm.dat\", \"wb\") as f:\n",
    "    pickle.dump(s_palm, f)\n",
    "\n",
    "with open(\"har2.dat\", \"wb\") as f:\n",
    "    pickle.dump(s_har2, f)\n",
    "\n",
    "with open(\"har3.dat\", \"wb\") as f:\n",
    "    pickle.dump(s_har3, f)"
   ]
  }
 ],
 "metadata": {
  "kernelspec": {
   "display_name": "Python 3 (ipykernel)",
   "language": "python",
   "name": "python3"
  },
  "language_info": {
   "codemirror_mode": {
    "name": "ipython",
    "version": 3
   },
   "file_extension": ".py",
   "mimetype": "text/x-python",
   "name": "python",
   "nbconvert_exporter": "python",
   "pygments_lexer": "ipython3",
   "version": "3.11.7"
  }
 },
 "nbformat": 4,
 "nbformat_minor": 5
}
