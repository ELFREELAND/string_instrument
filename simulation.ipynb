{
 "cells": [
  {
   "cell_type": "markdown",
   "id": "e45da065-5715-4d05-8167-cf17d46d8f86",
   "metadata": {},
   "source": [
    "# String simulator"
   ]
  },
  {
   "cell_type": "code",
   "execution_count": 9,
   "id": "8fe210f8-71b6-4455-b014-624198f5cf83",
   "metadata": {},
   "outputs": [],
   "source": [
    "from matplotlib import pyplot as plt\n",
    "from matplotlib import animation as ani\n",
    "import numpy as np\n",
    "import scipy as sp\n",
    "\n",
    "import time\n",
    "import pickle"
   ]
  },
  {
   "cell_type": "code",
   "execution_count": 10,
   "id": "4ac235fc-df59-49f9-a254-e5f880d13476",
   "metadata": {},
   "outputs": [
    {
     "name": "stdout",
     "output_type": "stream",
     "text": [
      "Last run: Tue Jan 30 13:41:25 2024\n"
     ]
    }
   ],
   "source": [
    "print(\"Last run: \" + time.ctime())"
   ]
  },
  {
   "cell_type": "markdown",
   "id": "84086622-06f8-4b05-b1ad-e889fe717de3",
   "metadata": {},
   "source": [
    "## Setting up the solver"
   ]
  },
  {
   "cell_type": "markdown",
   "id": "10ca9b3f-8e62-4534-b386-115bb24b28d5",
   "metadata": {},
   "source": [
    "***\n",
    "We are going to need to make some modifications to our system of equations to work with `solve_ivp`.\n",
    "\n",
    "First, `solve_ivp` only operates on first-order ODEs. We can convert our system of $n$ 2nd-order ODEs into a systen of $2n$ 1st-order ODEs with the following substitutions:\n",
    "\n",
    "$$v_i=\\frac{du_i}{dt}$$\n",
    "\n",
    "$$\\frac{dv_i}{dt}=\\frac{T}{\\rho}\\frac{u_{i+1}+u_{i-1}-2u_i}{\\Delta x^2}-\\mu_i v_i$$\n",
    "\n",
    "We'll vectorize the system of $u$ and $v$, into a vector $p$, such that $p_i=u_i$ for $1\\leq i\\leq n$, and $p_i=v_{i-500}$ for $n+1\\leq i\\leq 2n$:\n",
    "\n",
    "$$p=\\left[u_1, u_2, u_3, \\dots u_n, v_1, v_2, v_3, \\dots v_n\\right]$$\n",
    "\n",
    "Its derivative (using dot notation for $\\frac{d}{dt}$) is:\n",
    "\n",
    "$$\\dot{p}=\\left[\\dot{u}_1, \\dot{u}_2, \\dot{u}_3, \\dots \\dot{u}_n, \\dot{v}_1, \\dot{v}_2, \\dot{v}_3, \\dots \\dot{v}_n\\right]$$\n",
    "\n",
    "We will relate $p$ and $\\dot{p}$ with a matrix of coefficients, $C$:\n",
    "\n",
    "$$\\dot{p}=pC$$\n",
    "\n",
    "The coefficient $c_{ij}$ in $C$ should relate $p_i$ with $\\dot{p}_j$:\n",
    "\n",
    "$$\\dot{p}_j=\\sum_{i}p_ic_{ij}$$\n",
    "\n",
    "Substituting $u_i$ with $p_i$ and $v_i$ with $p_{i+n}$:\n",
    "\n",
    "$$p_{i+n}=\\frac{dp_i}{dt}$$\n",
    "\n",
    "$$\\frac{dp_{i+n}}{dt}=\\frac{T}{\\rho}\\frac{p_{i+1}+p_{i-1}-2p_i}{\\Delta x^2}-\\mu_i p_{i+n}$$\n",
    "\n",
    "$$c_{ij}=\\begin{cases}\n",
    "    0&\\text{for }j=n+1\\text{ or }j=2n\\\\\n",
    "    1&\\text{for }i=j+n\\\\\n",
    "    \\frac{T}{\\Delta x^2\\rho}&\\text{for }j=i+n-1\\text{ or }j=i+n+1\\\\\n",
    "    \\frac{-2T}{\\Delta x^2\\rho}&\\text{for }j=i+n\\\\\n",
    "    -\\mu_{i-n}&\\text{for }i=j\\text{ and }i>n\n",
    "\\end{cases}$$\n",
    "This gives a system of $2n$ first-order ODEs which we can solve with `solve_ivp`."
   ]
  },
  {
   "cell_type": "code",
   "execution_count": 11,
   "id": "4f8b3862-5a6c-42c4-bb15-836eae2a1c7a",
   "metadata": {},
   "outputs": [
    {
     "name": "stdout",
     "output_type": "stream",
     "text": [
      "f0 = 41.18\n"
     ]
    }
   ],
   "source": [
    "T = 103\n",
    "r = 0.0270\n",
    "L = 0.75\n",
    "#fundamental frequency according to mersenne's laws:\n",
    "print(\"f0 = {0:.2f}\".format(0.5*np.sqrt(T/r)/L))"
   ]
  },
  {
   "cell_type": "code",
   "execution_count": 12,
   "id": "64087798-e715-4e57-b6d6-193a9d45c05e",
   "metadata": {},
   "outputs": [],
   "source": [
    "def simulate(tension, density, length, damping, initial, n_points=500):\n",
    "    \"\"\"simulate a string given length, tension, linear density\n",
    "    All quantities should be given in SI units -\n",
    "    tension should have units of N,\n",
    "    density should have units of kg/m,\n",
    "    length should have units of m,\n",
    "    time should have units of seconds\n",
    "    \"\"\"\n",
    "\n",
    "    if damping.shape[0] != n_points:\n",
    "        raise ValueError(\"Damping vector must have length n_points\")\n",
    "    elif initial.shape[0] != 2*n_points:\n",
    "        raise ValueError(\"Initial condition vector must have length 2*n_points\")\n",
    "    \n",
    "    c = np.zeros((2*n_points, 2*n_points))\n",
    "\n",
    "    dx = length/(n_points-1)\n",
    "\n",
    "    st = time.time()\n",
    "    print(\"Beginning...\")\n",
    "\n",
    "    #create c matrix according to rules above\n",
    "    for i in range(0, 2*n_points):\n",
    "        for j in range(0, 2*n_points):\n",
    "            if j==n_points or j==2*n_points-1:\n",
    "                c[i,j] = 0\n",
    "            elif i == j+n_points:\n",
    "                c[i,j]=1\n",
    "            elif j==i+n_points-1 or j==i+n_points+1:\n",
    "                c[i,j]=tension/(dx**2*density)\n",
    "            elif j == i+n_points:\n",
    "                c[i,j]=-2*tension/(dx**2*density)\n",
    "            elif i==j and i > n_points:\n",
    "                c[i,j] = -damping[i-n_points]\n",
    "\n",
    "    print(\"Created c matrix in {0:.2f} s\".format(time.time()-st))\n",
    "          \n",
    "    def func(t, y):\n",
    "        return np.matmul(y, c)\n",
    "\n",
    "    t_eval = np.linspace(0, 1, 10000)\n",
    "\n",
    "    #way faster with 2(3)\n",
    "    s = sp.integrate.solve_ivp(func, (0,1), initial, t_eval=t_eval, method=\"RK23\")\n",
    "    \n",
    "    print(\"Solver finished in {0:.2f} s\".format(time.time()-st))\n",
    "          \n",
    "    return s"
   ]
  },
  {
   "cell_type": "code",
   "execution_count": 13,
   "id": "629371ad-40e5-4e59-9b66-0992f1516e9b",
   "metadata": {},
   "outputs": [],
   "source": [
    "p0_p = np.zeros(1000)\n",
    "p0_n = np.zeros(1000)\n",
    "\n",
    "p0_p[0:450]=[0.03*i/450 for i in range(0,450)]\n",
    "p0_p[450:499]=[0.03*(49-i)/49 for i in range(0,49)]\n",
    "\n",
    "p0_n[0:300]=[0.03*i/300 for i in range(0,300)]\n",
    "p0_n[300:499]=[0.03*(199-i)/199 for i in range(0,199)]"
   ]
  },
  {
   "cell_type": "code",
   "execution_count": 14,
   "id": "d86503b6-d9c5-45a8-8f7f-9ea270d671d4",
   "metadata": {},
   "outputs": [],
   "source": [
    "mu_open = np.full(500, 0.5)\n",
    "\n",
    "mu_palm = np.full(500, 0.5)\n",
    "mu_palm[-50:] = 200\n",
    "\n",
    "mu_har2 = np.full(500, 0.5)\n",
    "mu_har2[249:251] = 5000\n",
    "\n",
    "mu_har3 = np.full(500, 0.5)\n",
    "mu_har3[166:168] = 5000"
   ]
  },
  {
   "cell_type": "code",
   "execution_count": 15,
   "id": "ae81f815-8e48-45f7-92b6-c7db4dddadda",
   "metadata": {},
   "outputs": [
    {
     "name": "stdout",
     "output_type": "stream",
     "text": [
      "Beginning...\n",
      "Created c matrix in 0.60 s\n"
     ]
    },
    {
     "ename": "KeyboardInterrupt",
     "evalue": "",
     "output_type": "error",
     "traceback": [
      "\u001b[1;31m---------------------------------------------------------------------------\u001b[0m",
      "\u001b[1;31mKeyboardInterrupt\u001b[0m                         Traceback (most recent call last)",
      "Cell \u001b[1;32mIn[15], line 1\u001b[0m\n\u001b[1;32m----> 1\u001b[0m s_op_p \u001b[38;5;241m=\u001b[39m \u001b[43msimulate\u001b[49m\u001b[43m(\u001b[49m\u001b[43mT\u001b[49m\u001b[43m,\u001b[49m\u001b[43m \u001b[49m\u001b[43mr\u001b[49m\u001b[43m,\u001b[49m\u001b[43m \u001b[49m\u001b[43mL\u001b[49m\u001b[43m,\u001b[49m\u001b[43m \u001b[49m\u001b[43mmu_open\u001b[49m\u001b[43m,\u001b[49m\u001b[43m \u001b[49m\u001b[43mp0_p\u001b[49m\u001b[43m)\u001b[49m \u001b[38;5;66;03m#open string, plucked near the pickup\u001b[39;00m\n\u001b[0;32m      2\u001b[0m s_op_n \u001b[38;5;241m=\u001b[39m simulate(T, r, L, mu_open, p0_n) \u001b[38;5;66;03m#open string, plucked near the neck\u001b[39;00m\n\u001b[0;32m      3\u001b[0m s_palm \u001b[38;5;241m=\u001b[39m simulate(T, r, L, mu_palm, p0_p) \u001b[38;5;66;03m#palm muted string, plucked near the pickup\u001b[39;00m\n",
      "Cell \u001b[1;32mIn[12], line 44\u001b[0m, in \u001b[0;36msimulate\u001b[1;34m(tension, density, length, damping, initial, n_points)\u001b[0m\n\u001b[0;32m     41\u001b[0m t_eval \u001b[38;5;241m=\u001b[39m np\u001b[38;5;241m.\u001b[39mlinspace(\u001b[38;5;241m0\u001b[39m, \u001b[38;5;241m1\u001b[39m, \u001b[38;5;241m10000\u001b[39m)\n\u001b[0;32m     43\u001b[0m \u001b[38;5;66;03m#way faster with 2(3)\u001b[39;00m\n\u001b[1;32m---> 44\u001b[0m s \u001b[38;5;241m=\u001b[39m \u001b[43msp\u001b[49m\u001b[38;5;241;43m.\u001b[39;49m\u001b[43mintegrate\u001b[49m\u001b[38;5;241;43m.\u001b[39;49m\u001b[43msolve_ivp\u001b[49m\u001b[43m(\u001b[49m\u001b[43mfunc\u001b[49m\u001b[43m,\u001b[49m\u001b[43m \u001b[49m\u001b[43m(\u001b[49m\u001b[38;5;241;43m0\u001b[39;49m\u001b[43m,\u001b[49m\u001b[38;5;241;43m1\u001b[39;49m\u001b[43m)\u001b[49m\u001b[43m,\u001b[49m\u001b[43m \u001b[49m\u001b[43minitial\u001b[49m\u001b[43m,\u001b[49m\u001b[43m \u001b[49m\u001b[43mt_eval\u001b[49m\u001b[38;5;241;43m=\u001b[39;49m\u001b[43mt_eval\u001b[49m\u001b[43m,\u001b[49m\u001b[43m \u001b[49m\u001b[43mmethod\u001b[49m\u001b[38;5;241;43m=\u001b[39;49m\u001b[38;5;124;43m\"\u001b[39;49m\u001b[38;5;124;43mRK23\u001b[39;49m\u001b[38;5;124;43m\"\u001b[39;49m\u001b[43m)\u001b[49m\n\u001b[0;32m     46\u001b[0m \u001b[38;5;28mprint\u001b[39m(\u001b[38;5;124m\"\u001b[39m\u001b[38;5;124mSolver finished in \u001b[39m\u001b[38;5;132;01m{0:.2f}\u001b[39;00m\u001b[38;5;124m s\u001b[39m\u001b[38;5;124m\"\u001b[39m\u001b[38;5;241m.\u001b[39mformat(time\u001b[38;5;241m.\u001b[39mtime()\u001b[38;5;241m-\u001b[39mst))\n\u001b[0;32m     48\u001b[0m \u001b[38;5;28;01mreturn\u001b[39;00m s\n",
      "File \u001b[1;32m~\\anaconda3\\envs\\general_sci\\Lib\\site-packages\\scipy\\integrate\\_ivp\\ivp.py:602\u001b[0m, in \u001b[0;36msolve_ivp\u001b[1;34m(fun, t_span, y0, method, t_eval, dense_output, events, vectorized, args, **options)\u001b[0m\n\u001b[0;32m    600\u001b[0m status \u001b[38;5;241m=\u001b[39m \u001b[38;5;28;01mNone\u001b[39;00m\n\u001b[0;32m    601\u001b[0m \u001b[38;5;28;01mwhile\u001b[39;00m status \u001b[38;5;129;01mis\u001b[39;00m \u001b[38;5;28;01mNone\u001b[39;00m:\n\u001b[1;32m--> 602\u001b[0m     message \u001b[38;5;241m=\u001b[39m \u001b[43msolver\u001b[49m\u001b[38;5;241;43m.\u001b[39;49m\u001b[43mstep\u001b[49m\u001b[43m(\u001b[49m\u001b[43m)\u001b[49m\n\u001b[0;32m    604\u001b[0m     \u001b[38;5;28;01mif\u001b[39;00m solver\u001b[38;5;241m.\u001b[39mstatus \u001b[38;5;241m==\u001b[39m \u001b[38;5;124m'\u001b[39m\u001b[38;5;124mfinished\u001b[39m\u001b[38;5;124m'\u001b[39m:\n\u001b[0;32m    605\u001b[0m         status \u001b[38;5;241m=\u001b[39m \u001b[38;5;241m0\u001b[39m\n",
      "File \u001b[1;32m~\\anaconda3\\envs\\general_sci\\Lib\\site-packages\\scipy\\integrate\\_ivp\\base.py:197\u001b[0m, in \u001b[0;36mOdeSolver.step\u001b[1;34m(self)\u001b[0m\n\u001b[0;32m    195\u001b[0m \u001b[38;5;28;01melse\u001b[39;00m:\n\u001b[0;32m    196\u001b[0m     t \u001b[38;5;241m=\u001b[39m \u001b[38;5;28mself\u001b[39m\u001b[38;5;241m.\u001b[39mt\n\u001b[1;32m--> 197\u001b[0m     success, message \u001b[38;5;241m=\u001b[39m \u001b[38;5;28;43mself\u001b[39;49m\u001b[38;5;241;43m.\u001b[39;49m\u001b[43m_step_impl\u001b[49m\u001b[43m(\u001b[49m\u001b[43m)\u001b[49m\n\u001b[0;32m    199\u001b[0m     \u001b[38;5;28;01mif\u001b[39;00m \u001b[38;5;129;01mnot\u001b[39;00m success:\n\u001b[0;32m    200\u001b[0m         \u001b[38;5;28mself\u001b[39m\u001b[38;5;241m.\u001b[39mstatus \u001b[38;5;241m=\u001b[39m \u001b[38;5;124m'\u001b[39m\u001b[38;5;124mfailed\u001b[39m\u001b[38;5;124m'\u001b[39m\n",
      "File \u001b[1;32m~\\anaconda3\\envs\\general_sci\\Lib\\site-packages\\scipy\\integrate\\_ivp\\rk.py:144\u001b[0m, in \u001b[0;36mRungeKutta._step_impl\u001b[1;34m(self)\u001b[0m\n\u001b[0;32m    141\u001b[0m h \u001b[38;5;241m=\u001b[39m t_new \u001b[38;5;241m-\u001b[39m t\n\u001b[0;32m    142\u001b[0m h_abs \u001b[38;5;241m=\u001b[39m np\u001b[38;5;241m.\u001b[39mabs(h)\n\u001b[1;32m--> 144\u001b[0m y_new, f_new \u001b[38;5;241m=\u001b[39m \u001b[43mrk_step\u001b[49m\u001b[43m(\u001b[49m\u001b[38;5;28;43mself\u001b[39;49m\u001b[38;5;241;43m.\u001b[39;49m\u001b[43mfun\u001b[49m\u001b[43m,\u001b[49m\u001b[43m \u001b[49m\u001b[43mt\u001b[49m\u001b[43m,\u001b[49m\u001b[43m \u001b[49m\u001b[43my\u001b[49m\u001b[43m,\u001b[49m\u001b[43m \u001b[49m\u001b[38;5;28;43mself\u001b[39;49m\u001b[38;5;241;43m.\u001b[39;49m\u001b[43mf\u001b[49m\u001b[43m,\u001b[49m\u001b[43m \u001b[49m\u001b[43mh\u001b[49m\u001b[43m,\u001b[49m\u001b[43m \u001b[49m\u001b[38;5;28;43mself\u001b[39;49m\u001b[38;5;241;43m.\u001b[39;49m\u001b[43mA\u001b[49m\u001b[43m,\u001b[49m\n\u001b[0;32m    145\u001b[0m \u001b[43m                       \u001b[49m\u001b[38;5;28;43mself\u001b[39;49m\u001b[38;5;241;43m.\u001b[39;49m\u001b[43mB\u001b[49m\u001b[43m,\u001b[49m\u001b[43m \u001b[49m\u001b[38;5;28;43mself\u001b[39;49m\u001b[38;5;241;43m.\u001b[39;49m\u001b[43mC\u001b[49m\u001b[43m,\u001b[49m\u001b[43m \u001b[49m\u001b[38;5;28;43mself\u001b[39;49m\u001b[38;5;241;43m.\u001b[39;49m\u001b[43mK\u001b[49m\u001b[43m)\u001b[49m\n\u001b[0;32m    146\u001b[0m scale \u001b[38;5;241m=\u001b[39m atol \u001b[38;5;241m+\u001b[39m np\u001b[38;5;241m.\u001b[39mmaximum(np\u001b[38;5;241m.\u001b[39mabs(y), np\u001b[38;5;241m.\u001b[39mabs(y_new)) \u001b[38;5;241m*\u001b[39m rtol\n\u001b[0;32m    147\u001b[0m error_norm \u001b[38;5;241m=\u001b[39m \u001b[38;5;28mself\u001b[39m\u001b[38;5;241m.\u001b[39m_estimate_error_norm(\u001b[38;5;28mself\u001b[39m\u001b[38;5;241m.\u001b[39mK, h, scale)\n",
      "File \u001b[1;32m~\\anaconda3\\envs\\general_sci\\Lib\\site-packages\\scipy\\integrate\\_ivp\\rk.py:64\u001b[0m, in \u001b[0;36mrk_step\u001b[1;34m(fun, t, y, f, h, A, B, C, K)\u001b[0m\n\u001b[0;32m     62\u001b[0m \u001b[38;5;28;01mfor\u001b[39;00m s, (a, c) \u001b[38;5;129;01min\u001b[39;00m \u001b[38;5;28menumerate\u001b[39m(\u001b[38;5;28mzip\u001b[39m(A[\u001b[38;5;241m1\u001b[39m:], C[\u001b[38;5;241m1\u001b[39m:]), start\u001b[38;5;241m=\u001b[39m\u001b[38;5;241m1\u001b[39m):\n\u001b[0;32m     63\u001b[0m     dy \u001b[38;5;241m=\u001b[39m np\u001b[38;5;241m.\u001b[39mdot(K[:s]\u001b[38;5;241m.\u001b[39mT, a[:s]) \u001b[38;5;241m*\u001b[39m h\n\u001b[1;32m---> 64\u001b[0m     K[s] \u001b[38;5;241m=\u001b[39m \u001b[43mfun\u001b[49m\u001b[43m(\u001b[49m\u001b[43mt\u001b[49m\u001b[43m \u001b[49m\u001b[38;5;241;43m+\u001b[39;49m\u001b[43m \u001b[49m\u001b[43mc\u001b[49m\u001b[43m \u001b[49m\u001b[38;5;241;43m*\u001b[39;49m\u001b[43m \u001b[49m\u001b[43mh\u001b[49m\u001b[43m,\u001b[49m\u001b[43m \u001b[49m\u001b[43my\u001b[49m\u001b[43m \u001b[49m\u001b[38;5;241;43m+\u001b[39;49m\u001b[43m \u001b[49m\u001b[43mdy\u001b[49m\u001b[43m)\u001b[49m\n\u001b[0;32m     66\u001b[0m y_new \u001b[38;5;241m=\u001b[39m y \u001b[38;5;241m+\u001b[39m h \u001b[38;5;241m*\u001b[39m np\u001b[38;5;241m.\u001b[39mdot(K[:\u001b[38;5;241m-\u001b[39m\u001b[38;5;241m1\u001b[39m]\u001b[38;5;241m.\u001b[39mT, B)\n\u001b[0;32m     67\u001b[0m f_new \u001b[38;5;241m=\u001b[39m fun(t \u001b[38;5;241m+\u001b[39m h, y_new)\n",
      "File \u001b[1;32m~\\anaconda3\\envs\\general_sci\\Lib\\site-packages\\scipy\\integrate\\_ivp\\base.py:154\u001b[0m, in \u001b[0;36mOdeSolver.__init__.<locals>.fun\u001b[1;34m(t, y)\u001b[0m\n\u001b[0;32m    152\u001b[0m \u001b[38;5;28;01mdef\u001b[39;00m \u001b[38;5;21mfun\u001b[39m(t, y):\n\u001b[0;32m    153\u001b[0m     \u001b[38;5;28mself\u001b[39m\u001b[38;5;241m.\u001b[39mnfev \u001b[38;5;241m+\u001b[39m\u001b[38;5;241m=\u001b[39m \u001b[38;5;241m1\u001b[39m\n\u001b[1;32m--> 154\u001b[0m     \u001b[38;5;28;01mreturn\u001b[39;00m \u001b[38;5;28;43mself\u001b[39;49m\u001b[38;5;241;43m.\u001b[39;49m\u001b[43mfun_single\u001b[49m\u001b[43m(\u001b[49m\u001b[43mt\u001b[49m\u001b[43m,\u001b[49m\u001b[43m \u001b[49m\u001b[43my\u001b[49m\u001b[43m)\u001b[49m\n",
      "File \u001b[1;32m~\\anaconda3\\envs\\general_sci\\Lib\\site-packages\\scipy\\integrate\\_ivp\\base.py:23\u001b[0m, in \u001b[0;36mcheck_arguments.<locals>.fun_wrapped\u001b[1;34m(t, y)\u001b[0m\n\u001b[0;32m     22\u001b[0m \u001b[38;5;28;01mdef\u001b[39;00m \u001b[38;5;21mfun_wrapped\u001b[39m(t, y):\n\u001b[1;32m---> 23\u001b[0m     \u001b[38;5;28;01mreturn\u001b[39;00m np\u001b[38;5;241m.\u001b[39masarray(\u001b[43mfun\u001b[49m\u001b[43m(\u001b[49m\u001b[43mt\u001b[49m\u001b[43m,\u001b[49m\u001b[43m \u001b[49m\u001b[43my\u001b[49m\u001b[43m)\u001b[49m, dtype\u001b[38;5;241m=\u001b[39mdtype)\n",
      "Cell \u001b[1;32mIn[12], line 39\u001b[0m, in \u001b[0;36msimulate.<locals>.func\u001b[1;34m(t, y)\u001b[0m\n\u001b[0;32m     38\u001b[0m \u001b[38;5;28;01mdef\u001b[39;00m \u001b[38;5;21mfunc\u001b[39m(t, y):\n\u001b[1;32m---> 39\u001b[0m     \u001b[38;5;28;01mreturn\u001b[39;00m \u001b[43mnp\u001b[49m\u001b[38;5;241;43m.\u001b[39;49m\u001b[43mmatmul\u001b[49m\u001b[43m(\u001b[49m\u001b[43my\u001b[49m\u001b[43m,\u001b[49m\u001b[43m \u001b[49m\u001b[43mc\u001b[49m\u001b[43m)\u001b[49m\n",
      "\u001b[1;31mKeyboardInterrupt\u001b[0m: "
     ]
    }
   ],
   "source": [
    "s_op_p = simulate(T, r, L, mu_open, p0_p) #open string, plucked near the pickup\n",
    "s_op_n = simulate(T, r, L, mu_open, p0_n) #open string, plucked near the neck\n",
    "s_palm = simulate(T, r, L, mu_palm, p0_p) #palm muted string, plucked near the pickup\n",
    "s_har2 = simulate(T, r, L, mu_har2, p0_p) #string muted for 2nd harmonic\n",
    "s_har3 = simulate(T, r, L, mu_har3, p0_p) #string muted for 3rd harmonic"
   ]
  },
  {
   "cell_type": "code",
   "execution_count": null,
   "id": "b1a09f25-1335-49af-93a6-76aa65fb5fb6",
   "metadata": {},
   "outputs": [],
   "source": [
    "with open(\"op_p.dat\", \"wb\") as f:\n",
    "    pickle.dump(s_op_p, f)\n",
    "\n",
    "with open(\"op_n.dat\", \"wb\") as f:\n",
    "    pickle.dump(s_op_n, f)\n",
    "\n",
    "with open(\"palm.dat\", \"wb\") as f:\n",
    "    pickle.dump(s_palm, f)\n",
    "\n",
    "with open(\"har2.dat\", \"wb\") as f:\n",
    "    pickle.dump(s_har2, f)\n",
    "\n",
    "with open(\"har3.dat\", \"wb\") as f:\n",
    "    pickle.dump(s_har3, f)"
   ]
  }
 ],
 "metadata": {
  "kernelspec": {
   "display_name": "Python 3 (ipykernel)",
   "language": "python",
   "name": "python3"
  },
  "language_info": {
   "codemirror_mode": {
    "name": "ipython",
    "version": 3
   },
   "file_extension": ".py",
   "mimetype": "text/x-python",
   "name": "python",
   "nbconvert_exporter": "python",
   "pygments_lexer": "ipython3",
   "version": "3.11.7"
  }
 },
 "nbformat": 4,
 "nbformat_minor": 5
}
