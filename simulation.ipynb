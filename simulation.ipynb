{
 "cells": [
  {
   "cell_type": "markdown",
   "id": "e45da065-5715-4d05-8167-cf17d46d8f86",
   "metadata": {},
   "source": [
    "# String simulator"
   ]
  },
  {
   "cell_type": "code",
   "execution_count": 2,
   "id": "8fe210f8-71b6-4455-b014-624198f5cf83",
   "metadata": {},
   "outputs": [],
   "source": [
    "from matplotlib import pyplot as plt\n",
    "from matplotlib import animation as ani\n",
    "import numpy as np\n",
    "import scipy as sp\n",
    "\n",
    "import time\n",
    "import pickle"
   ]
  },
  {
   "cell_type": "code",
   "execution_count": 3,
   "id": "4ac235fc-df59-49f9-a254-e5f880d13476",
   "metadata": {},
   "outputs": [
    {
     "name": "stdout",
     "output_type": "stream",
     "text": [
      "Last run: Thu Aug  1 13:24:00 2024\n"
     ]
    }
   ],
   "source": [
    "print(\"Last run: \" + time.ctime())"
   ]
  },
  {
   "cell_type": "markdown",
   "id": "84086622-06f8-4b05-b1ad-e889fe717de3",
   "metadata": {},
   "source": [
    "## Setting up the solver"
   ]
  },
  {
   "cell_type": "markdown",
   "id": "10ca9b3f-8e62-4534-b386-115bb24b28d5",
   "metadata": {},
   "source": [
    "***\n",
    "We're going to use Scipy's `integrate.solve_ivp` to solve our system of equations. To work with `solve_ivp`, we'll vectorize the system of $u$ and $v$, each of which is of length $n$, into a vector $p$, of length $2n$, such that $p_i=u_i$ for $1\\leq i\\leq n$, and $p_i=v_{i-n}$ for $n+1\\leq i\\leq 2n$:\n",
    "\n",
    "$$p=\\left[u_1, u_2, u_3, \\dots u_n, v_1, v_2, v_3, \\dots v_n\\right]$$\n",
    "\n",
    "Its derivative (using dot notation for $\\frac{d}{dt}$) is:\n",
    "\n",
    "$$\\dot{p}=\\left[\\dot{u}_1, \\dot{u}_2, \\dot{u}_3, \\dots \\dot{u}_n, \\dot{v}_1, \\dot{v}_2, \\dot{v}_3, \\dots \\dot{v}_n\\right]$$\n",
    "\n",
    "We will relate $p$ and $\\dot{p}$ with a matrix of coefficients, $C$:\n",
    "\n",
    "$$\\dot{p}=pC$$\n",
    "\n",
    "The coefficient $c_{ij}$ in $C$ should relate $p_i$ with $\\dot{p}_j$:\n",
    "\n",
    "$$\\dot{p}_j=\\sum_{i}p_ic_{ij}$$\n",
    "\n",
    "Substituting $u_i$ with $p_i$ and $v_i$ with $p_{i+n}$:\n",
    "\n",
    "$$p_{i+n}=\\frac{dp_i}{dt}$$\n",
    "\n",
    "$$\\frac{dp_{i+n}}{dt}=\\frac{T}{\\rho}\\frac{p_{i+1}+p_{i-1}-2p_i}{\\Delta x^2}-\\mu_i p_{i+n}$$\n",
    "\n",
    "We can determine the coefficients $c_{ij}$ by examining the above equations:\n",
    "\n",
    "$$c_{ij}=\\begin{cases}\n",
    "    0&\\text{for }j=n+1\\text{ or }j=2n\\\\\n",
    "    1&\\text{for }i=j+n\\\\\n",
    "    \\frac{T}{\\Delta x^2\\rho}&\\text{for }j=i+n-1\\text{ or }j=i+n+1\\\\\n",
    "    \\frac{-2T}{\\Delta x^2\\rho}&\\text{for }j=i+n\\\\\n",
    "    -\\mu_{i-n}&\\text{for }i=j\\text{ and }i>n\n",
    "\\end{cases}$$\n",
    "This gives a system of $2n$ first-order ODEs which we can solve with `solve_ivp`."
   ]
  },
  {
   "cell_type": "markdown",
   "id": "31d3a6c6-6a9d-452a-a344-19c5935d6892",
   "metadata": {},
   "source": [
    "***\n",
    "The following values for tension, linear density, and length are approximately the conditions of the E string on my bass guitar. I measured the length, looked up the tension of a certain string from a certain manufacturer (a 0.105\" nickel-wound roundwound string from a manufacturer whose name rhymes with mario), and calculated the linear density that would be needed to produce a fundamental frequency of E0."
   ]
  },
  {
   "cell_type": "code",
   "execution_count": 8,
   "id": "4f8b3862-5a6c-42c4-bb15-836eae2a1c7a",
   "metadata": {},
   "outputs": [
    {
     "name": "stdout",
     "output_type": "stream",
     "text": [
      "f0 = 41.44\n"
     ]
    }
   ],
   "source": [
    "T = 131.6\n",
    "r = 0.033\n",
    "L = 0.762\n",
    "#fundamental frequency according to mersenne's laws:\n",
    "print(\"f0 = {0:.2f}\".format(np.sqrt(T/r)/L/2))"
   ]
  },
  {
   "cell_type": "markdown",
   "id": "34e906e3-ee32-44fa-8f9a-fb2a2c591790",
   "metadata": {},
   "source": [
    "This is the function we'll use to simulate the string. We're going to keep $n=500$ just to keep things simple."
   ]
  },
  {
   "cell_type": "code",
   "execution_count": 4,
   "id": "64087798-e715-4e57-b6d6-193a9d45c05e",
   "metadata": {},
   "outputs": [],
   "source": [
    "def simulate(tension, density, length, damping, initial, n_points=500):\n",
    "    \"\"\"simulate a string given length, tension, linear density\n",
    "    All quantities should be given in SI units -\n",
    "    tension should have units of N,\n",
    "    density should have units of kg/m,\n",
    "    length should have units of m,\n",
    "    time should have units of seconds\n",
    "    \"\"\"\n",
    "\n",
    "    if damping.shape[0] != n_points:\n",
    "        raise ValueError(\"Damping vector must have length n_points\")\n",
    "    elif initial.shape[0] != 2*n_points:\n",
    "        raise ValueError(\"Initial condition vector must have length 2*n_points\")\n",
    "    \n",
    "    c = np.zeros((2*n_points, 2*n_points))\n",
    "\n",
    "    dx = length/(n_points-1)\n",
    "\n",
    "    st = time.time()\n",
    "    print(\"Beginning...\")\n",
    "\n",
    "    #create c matrix according to rules above\n",
    "    for i in range(0, 2*n_points):\n",
    "        for j in range(0, 2*n_points):\n",
    "            if j==n_points or j==2*n_points-1:\n",
    "                c[i,j] = 0\n",
    "            elif i == j+n_points:\n",
    "                c[i,j]=1\n",
    "            elif j==i+n_points-1 or j==i+n_points+1:\n",
    "                c[i,j]=tension/(dx**2*density)\n",
    "            elif j == i+n_points:\n",
    "                c[i,j]=-2*tension/(dx**2*density)\n",
    "            elif i==j and i > n_points:\n",
    "                c[i,j] = -damping[i-n_points]\n",
    "\n",
    "    print(\"Created c matrix in {0:.2f} s\".format(time.time()-st))\n",
    "          \n",
    "    def func(t, y):\n",
    "        return np.matmul(y, c)\n",
    "\n",
    "    #48000 hz sampling frequency\n",
    "    t_eval = np.linspace(0, 1, 48000)\n",
    "\n",
    "    #way faster with 3(2) than with 5(4)\n",
    "    s = sp.integrate.solve_ivp(func, (0,1), initial, t_eval=t_eval, method=\"RK23\")\n",
    "    \n",
    "    print(\"Solver finished in {0:.2f} s\".format(time.time()-st))\n",
    "          \n",
    "    return s"
   ]
  },
  {
   "cell_type": "markdown",
   "id": "b9b7b3e3-f153-4718-b927-defb0e4e5570",
   "metadata": {},
   "source": [
    "These are the initial conditions we'll use. `p0_p` represents the string plucked near the bridge. `p0_n` represents the string plucked closer to the neck. `p0_h` represents the string struck near the bridge."
   ]
  },
  {
   "cell_type": "code",
   "execution_count": 5,
   "id": "629371ad-40e5-4e59-9b66-0992f1516e9b",
   "metadata": {},
   "outputs": [],
   "source": [
    "p0_p = np.zeros(1000)\n",
    "p0_n = np.zeros(1000)\n",
    "p0_h = np.zeros(1000)\n",
    "\n",
    "#initial displacement of 0.03 m max\n",
    "p0_p[0:450]=[0.03*i/450 for i in range(0,450)]\n",
    "p0_p[450:499]=[0.03*(49-i)/49 for i in range(0,49)]\n",
    "\n",
    "p0_n[0:300]=[0.03*i/300 for i in range(0,300)]\n",
    "p0_n[300:499]=[0.03*(199-i)/199 for i in range(0,199)]\n",
    "\n",
    "#initial velocity of 15 m/s max\n",
    "p0_h[945:955] = [3, 6, 9, 12, 15, 15, 12, 9, 6, 3]"
   ]
  },
  {
   "cell_type": "markdown",
   "id": "8c71baa5-0b67-4ec8-9cd6-785f8d619a4e",
   "metadata": {},
   "source": [
    "These are the damping profiles we'll use. `mu_open` is a light uniform damping across the entire string. `mu_palm` is a region of higher damping near the bridge, representing a palm mute. `mu_har2` and `mu_har3` have points of high damping at $x=\\frac{L}{2}$ and $x=\\frac{L}{3}$, respectively."
   ]
  },
  {
   "cell_type": "code",
   "execution_count": 6,
   "id": "d86503b6-d9c5-45a8-8f7f-9ea270d671d4",
   "metadata": {},
   "outputs": [],
   "source": [
    "mu_open = np.full(500, 0.5)\n",
    "\n",
    "mu_palm = np.full(500, 0.5)\n",
    "mu_palm[-50:] = 200\n",
    "\n",
    "mu_har2 = np.full(500, 0.5)\n",
    "mu_har2[249:251] = 5000\n",
    "\n",
    "mu_har3 = np.full(500, 0.5)\n",
    "mu_har3[166:168] = 5000"
   ]
  },
  {
   "cell_type": "markdown",
   "id": "d5ee648c-ed49-440e-88dc-eefc3c64fab2",
   "metadata": {},
   "source": [
    "Here we'll actually run the simulations:"
   ]
  },
  {
   "cell_type": "code",
   "execution_count": 7,
   "id": "ae81f815-8e48-45f7-92b6-c7db4dddadda",
   "metadata": {},
   "outputs": [
    {
     "name": "stdout",
     "output_type": "stream",
     "text": [
      "Beginning...\n",
      "Created c matrix in 0.41 s\n",
      "Solver finished in 44.96 s\n",
      "Beginning...\n",
      "Created c matrix in 0.35 s\n",
      "Solver finished in 37.58 s\n",
      "Beginning...\n",
      "Created c matrix in 0.31 s\n",
      "Solver finished in 35.19 s\n",
      "Beginning...\n",
      "Created c matrix in 0.33 s\n",
      "Solver finished in 36.75 s\n",
      "Beginning...\n",
      "Created c matrix in 0.33 s\n",
      "Solver finished in 37.49 s\n",
      "Beginning...\n",
      "Created c matrix in 0.29 s\n",
      "Solver finished in 38.48 s\n"
     ]
    }
   ],
   "source": [
    "s_op_p = simulate(T, r, L, mu_open, p0_p) #open string, plucked near the pickup\n",
    "s_op_n = simulate(T, r, L, mu_open, p0_n) #open string, plucked near the neck\n",
    "s_op_h = simulate(T, r, L, mu_open, p0_h) #open string, hammered\n",
    "s_palm = simulate(T, r, L, mu_palm, p0_p) #palm muted string, plucked near the pickup\n",
    "s_har2 = simulate(T, r, L, mu_har2, p0_p) #string muted for 2nd harmonic\n",
    "s_har3 = simulate(T, r, L, mu_har3, p0_p) #string muted for 3rd harmonic"
   ]
  },
  {
   "cell_type": "markdown",
   "id": "d8419e5c-84dd-4080-846b-13beba69fb32",
   "metadata": {},
   "source": [
    "And save them to `.dat` files. Further analysis will be done in `analysis.ipynb`."
   ]
  },
  {
   "cell_type": "code",
   "execution_count": 8,
   "id": "b1a09f25-1335-49af-93a6-76aa65fb5fb6",
   "metadata": {},
   "outputs": [],
   "source": [
    "with open(\"op_p.dat\", \"wb\") as f:\n",
    "    pickle.dump(s_op_p, f)\n",
    "\n",
    "with open(\"op_n.dat\", \"wb\") as f:\n",
    "    pickle.dump(s_op_n, f)\n",
    "\n",
    "with open(\"op_h.dat\", \"wb\") as f:\n",
    "    pickle.dump(s_op_h, f)\n",
    "\n",
    "with open(\"palm.dat\", \"wb\") as f:\n",
    "    pickle.dump(s_palm, f)\n",
    "\n",
    "with open(\"har2.dat\", \"wb\") as f:\n",
    "    pickle.dump(s_har2, f)\n",
    "\n",
    "with open(\"har3.dat\", \"wb\") as f:\n",
    "    pickle.dump(s_har3, f)"
   ]
  },
  {
   "cell_type": "code",
   "execution_count": null,
   "id": "95e9b72e-fdd4-4f98-a2c9-4a2dbf8e0636",
   "metadata": {},
   "outputs": [],
   "source": []
  }
 ],
 "metadata": {
  "kernelspec": {
   "display_name": "Python 3 (ipykernel)",
   "language": "python",
   "name": "python3"
  },
  "language_info": {
   "codemirror_mode": {
    "name": "ipython",
    "version": 3
   },
   "file_extension": ".py",
   "mimetype": "text/x-python",
   "name": "python",
   "nbconvert_exporter": "python",
   "pygments_lexer": "ipython3",
   "version": "3.11.7"
  }
 },
 "nbformat": 4,
 "nbformat_minor": 5
}
