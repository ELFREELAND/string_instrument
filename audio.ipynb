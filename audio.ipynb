{
 "cells": [
  {
   "cell_type": "markdown",
   "id": "ef34c9bc-0818-4b39-92ad-c8429fecc3d9",
   "metadata": {},
   "source": [
    "# Audio generation"
   ]
  },
  {
   "cell_type": "code",
   "execution_count": 20,
   "id": "6fd038c9-877d-4298-b3bc-5e44c1302f44",
   "metadata": {},
   "outputs": [],
   "source": [
    "from matplotlib import pyplot as plt\n",
    "from matplotlib import animation as ani\n",
    "import numpy as np\n",
    "import scipy as sp\n",
    "\n",
    "import pickle\n",
    "import wave"
   ]
  },
  {
   "cell_type": "markdown",
   "id": "9aadadb3-431b-40a2-898b-6b784ec27506",
   "metadata": {},
   "source": [
    "## Load simulation results"
   ]
  },
  {
   "cell_type": "code",
   "execution_count": 21,
   "id": "3214a8c1-6ed6-4595-9c40-c2868731b867",
   "metadata": {},
   "outputs": [],
   "source": [
    "with open(\"op_p.dat\", \"rb\") as f:\n",
    "    s_op_p = pickle.load(f)\n",
    "\n",
    "with open(\"op_n.dat\", \"rb\") as f:\n",
    "    s_op_n = pickle.load(f)\n",
    "\n",
    "with open(\"op_h.dat\", \"rb\") as f:\n",
    "    s_op_h = pickle.load(f)\n",
    "\n",
    "with open(\"palm.dat\", \"rb\") as f:\n",
    "    s_palm = pickle.load(f)\n",
    "\n",
    "with open(\"har2.dat\", \"rb\") as f:\n",
    "    s_har2 = pickle.load(f)\n",
    "\n",
    "with open(\"har3.dat\", \"rb\") as f:\n",
    "    s_har3 = pickle.load(f)"
   ]
  },
  {
   "cell_type": "code",
   "execution_count": 26,
   "id": "c9107aa4-9eb0-45b1-b9c3-a1925e12fb99",
   "metadata": {},
   "outputs": [],
   "source": [
    "def wavWrite(filename, data):\n",
    "    w = wave.open(filename, \"wb\")\n",
    "    w.setnchannels(1) #mono\n",
    "    w.setsampwidth(2) #2 byte sample depth\n",
    "    w.setframerate(48000) #48 kHz sample rate\n",
    "    w.setnframes(48000) #1 second sample\n",
    "    w.writeframes(\n",
    "        np.array(data[\"y\"][400,:]/np.max(data[\"y\"][400,:])*2**15, dtype=\"int\")\n",
    "    )\n",
    "    w.close()"
   ]
  },
  {
   "cell_type": "code",
   "execution_count": 27,
   "id": "d3767e55-1137-428e-a838-28271b670701",
   "metadata": {},
   "outputs": [],
   "source": [
    "wavWrite(\"op_n.wav\", s_op_n)\n",
    "wavWrite(\"op_p.wav\", s_op_p)\n",
    "wavWrite(\"op_h.wav\", s_op_h)\n",
    "wavWrite(\"palm.wav\", s_palm)\n",
    "wavWrite(\"har2.wav\", s_har2)\n",
    "wavWrite(\"har3.wav\", s_har3)"
   ]
  },
  {
   "cell_type": "code",
   "execution_count": null,
   "id": "ae84c319-88c8-4490-84c9-3037d140b65e",
   "metadata": {},
   "outputs": [],
   "source": []
  }
 ],
 "metadata": {
  "kernelspec": {
   "display_name": "Python 3 (ipykernel)",
   "language": "python",
   "name": "python3"
  },
  "language_info": {
   "codemirror_mode": {
    "name": "ipython",
    "version": 3
   },
   "file_extension": ".py",
   "mimetype": "text/x-python",
   "name": "python",
   "nbconvert_exporter": "python",
   "pygments_lexer": "ipython3",
   "version": "3.11.7"
  }
 },
 "nbformat": 4,
 "nbformat_minor": 5
}
